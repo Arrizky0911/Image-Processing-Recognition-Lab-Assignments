{
  "nbformat": 4,
  "nbformat_minor": 0,
  "metadata": {
    "colab": {
      "private_outputs": true,
      "provenance": [],
      "authorship_tag": "ABX9TyPy3u+QjvvefEAtTaRzO773",
      "include_colab_link": true
    },
    "kernelspec": {
      "name": "python3",
      "display_name": "Python 3"
    },
    "language_info": {
      "name": "python"
    }
  },
  "cells": [
    {
      "cell_type": "markdown",
      "metadata": {
        "id": "view-in-github",
        "colab_type": "text"
      },
      "source": [
        "<a href=\"https://colab.research.google.com/github/Arrizky0911/Image-Processing-Recognition-Lab-Assignments/blob/main/assignment_2.ipynb\" target=\"_parent\"><img src=\"https://colab.research.google.com/assets/colab-badge.svg\" alt=\"Open In Colab\"/></a>"
      ]
    },
    {
      "cell_type": "markdown",
      "source": [
        "# **Lab Assignment 2: Transforms & Filtering In Image Processing**"
      ],
      "metadata": {
        "id": "EXHkqMDWZCPe"
      }
    },
    {
      "cell_type": "markdown",
      "source": [
        "Name : Muhammad Arrizky Adhita Azizi\n",
        "\n",
        "SID: 001202300019\n",
        "\n",
        "Artificial Intelligence Class 2"
      ],
      "metadata": {
        "id": "2ahHBNjll8ue"
      }
    },
    {
      "cell_type": "markdown",
      "source": [
        "**Background**\n",
        "\n",
        "Medical images, such as MRI or CT scans, are crucial for diagnosing and monitoring\n",
        "health conditions. However, these images often suffer from various issues:\n",
        "- Noise: Artifacts from the scanning process can make it difficult to see important\n",
        "details.\n",
        "- Blurred details: Low resolution can hinder the identification of fine details.\n",
        "- Large file sizes: Medical images are large, making storage and transfer difficult.\n",
        "\n",
        "Thus, the need arises to enhance the quality of medical images through filtering and\n",
        "transforming techniques while ensuring that no critical information is lost."
      ],
      "metadata": {
        "id": "eDZieSdOtcJj"
      }
    },
    {
      "cell_type": "markdown",
      "source": [
        "## **Setup Environment**"
      ],
      "metadata": {
        "id": "a1wEDTVTjcpC"
      }
    },
    {
      "cell_type": "code",
      "source": [
        "import numpy as np\n",
        "import matplotlib.pyplot as plt\n",
        "import os\n",
        "import cv2\n",
        "\n",
        "%matplotlib inline"
      ],
      "metadata": {
        "id": "ULmGW7_9m9vz"
      },
      "execution_count": null,
      "outputs": []
    },
    {
      "cell_type": "markdown",
      "source": [
        "Execute the code below if you run it in colab (specify your folder images)"
      ],
      "metadata": {
        "id": "3JQqbJf6mtIf"
      }
    },
    {
      "cell_type": "code",
      "source": [
        "from google.colab import drive\n",
        "\n",
        "drive.mount('/content/drive')\n",
        "\n",
        "FOLDERNAME = ''\n",
        "assert FOLDERNAME is not None, \"[!] Enter the foldername.\"\n",
        "\n",
        "import sys\n",
        "sys.path.append('/content/drive/My Drive/{}'.format(FOLDERNAME))\n",
        "\n",
        "%cd /content/drive/My\\ Drive/$FOLDERNAME"
      ],
      "metadata": {
        "id": "7A25WYfSmsYC"
      },
      "execution_count": null,
      "outputs": []
    },
    {
      "cell_type": "code",
      "source": [
        "original_image = cv2.imread('image.jpg', cv2.IMREAD_GRAYSCALE)\n",
        "\n",
        "display(original_image)"
      ],
      "metadata": {
        "id": "fU2ab0A-WNI-"
      },
      "execution_count": null,
      "outputs": []
    },
    {
      "cell_type": "code",
      "source": [
        "def display_images(images, num, titles = None, cmap=None):\n",
        "  plt.figure(figsize=(15, 5))\n",
        "  for i, img in enumerate(images):\n",
        "    plt.subplot(1, num, i+1)\n",
        "    plt.imshow(img, cmap)\n",
        "    if titles is None:\n",
        "      plt.title(f\"Image {i+1}\")\n",
        "    else:\n",
        "      plt.title(titles[i])\n",
        "    plt.axis(\"off\")\n",
        "  plt.show()"
      ],
      "metadata": {
        "id": "vgAybKS6NqDv"
      },
      "execution_count": null,
      "outputs": []
    },
    {
      "cell_type": "markdown",
      "source": [
        "## **Fourier Transform in Medical Imaging**"
      ],
      "metadata": {
        "id": "T8M0pMkAMSqc"
      }
    },
    {
      "cell_type": "markdown",
      "source": [
        "Fourier transforms is used to convert an image from the spatial domain to the frequency domain. This allows for the easy removal of high-frequency noise.\n",
        "\n",
        "This process includes:\n",
        "* Applying the 2D Fourier Transform to a noisy medical image.\n",
        "* Filter out all the unwanted high-frequency components (i.e., noise) using low pass filter.\n",
        "* Reconstructing the image back using the inverse Fourier transform to obtain a cleaner version of the image."
      ],
      "metadata": {
        "id": "AQsco_tztuwm"
      }
    },
    {
      "cell_type": "code",
      "execution_count": null,
      "metadata": {
        "id": "YmI2IoetY1iW"
      },
      "outputs": [],
      "source": [
        "# Apply 2D Fourier Transform\n",
        "f_transform = np.fft.fft2(original_image)\n",
        "f_shift = np.fft.fftshift(f_transform) # Shift zero frequency to center\n",
        "magnitude_spectrum = 20 * np.log(np.abs(f_shift))"
      ]
    },
    {
      "cell_type": "code",
      "source": [
        "# Create filters\n",
        "rows, cols = original_image.shape\n",
        "crow, ccol = rows // 2, cols // 2 # Center coordinates\n",
        "low_pass = np.zeros((rows, cols), np.uint8)\n",
        "cv2.circle(low_pass, (ccol, crow), 50, 1, -1) # Circle of radius 50\n",
        "\n",
        "# Apply the filter\n",
        "low_pass_filtered = f_shift * low_pass"
      ],
      "metadata": {
        "id": "ysYw55u-M7OB"
      },
      "execution_count": null,
      "outputs": []
    },
    {
      "cell_type": "code",
      "source": [
        "# Apply the Inverse Fourier Transform\n",
        "f_iffshift = np.fft.ifftshift(low_pass_filtered)\n",
        "reconstructed_image = np.abs(np.fft.ifft2(f_iffshift))"
      ],
      "metadata": {
        "id": "X6d3T0_tNV-3"
      },
      "execution_count": null,
      "outputs": []
    },
    {
      "cell_type": "code",
      "source": [
        "fft_result_images = [original_image, magnitude_spectrum, reconstructed_image]\n",
        "fft_result_titles = [\"Original Image\", \"Magnitude Spectrum\", \"Reconstructed Image\"]\n",
        "\n",
        "display_images(\n",
        "    fft_result_images,\n",
        "    3,\n",
        "    fft_result_titles,\n",
        "    \"grey\")"
      ],
      "metadata": {
        "id": "mh8zuepOcw0e"
      },
      "execution_count": null,
      "outputs": []
    },
    {
      "cell_type": "markdown",
      "source": [
        "## **Discrete Cosine Transform (DCT) in Image Compression**"
      ],
      "metadata": {
        "id": "vRFf0OwHMa1h"
      }
    },
    {
      "cell_type": "markdown",
      "source": [
        "Use DCT to compress large medical images without losing important diagnostic features.\n",
        "\n",
        "This process includes:\n",
        "- Applying the DCT to the image to transform it into frequency components.Which is gonna retain only the largest DCT coefficients, discarding smaller ones(which typically represent less important data).\n",
        "- Reconstructing the image using the inverse DCT."
      ],
      "metadata": {
        "id": "Tox7OuXluRN6"
      }
    },
    {
      "cell_type": "code",
      "source": [
        "# Step 1: # Ensure the image is in float32 format\n",
        "image = np.float32(original_image)\n",
        "\n",
        "# Step 2: Apply Discrete Cosine Transform (DCT)\n",
        "dct_transform = cv2.dct(image)  # Apply 2D DCT\n",
        "dct_visual = np.log(abs(dct_transform) + 1)  # Log scale for visualization\n",
        "\n",
        "# Step 3: Retain the largest coefficients\n",
        "compression_ratio = 0.1  # Retain 10% of the largest coefficients\n",
        "flattened = abs(dct_transform).flatten()\n",
        "threshold = np.sort(flattened)[::-1][int(len(flattened) * compression_ratio)]  # Calculate threshold\n",
        "compressed_dct = np.where(abs(dct_transform) >= threshold, dct_transform, 0)  # Retain significant coefficients\n",
        "\n",
        "# Step 4: Reconstruct the image using inverse DCT\n",
        "reconstructed_image = cv2.idct(compressed_dct)  # Apply inverse DCT"
      ],
      "metadata": {
        "id": "zWMpFKJZuflR"
      },
      "execution_count": null,
      "outputs": []
    },
    {
      "cell_type": "code",
      "source": [
        "DCT_result_images = [original_image, dct_visual, reconstructed_image]\n",
        "DCT_result_titles = [\"Original Image\", \"DCT Spectrum\", \"Reconstructed Image\"]\n",
        "display_images(DCT_result_images, 3, DCT_result_titles, \"grey\")"
      ],
      "metadata": {
        "id": "ymsV9TNATgaI"
      },
      "execution_count": null,
      "outputs": []
    },
    {
      "cell_type": "code",
      "source": [
        "# Step 5: Report Compression\n",
        "non_zero_original = np.count_nonzero(dct_transform)\n",
        "non_zero_compressed = np.count_nonzero(compressed_dct)\n",
        "compression_ratio_calculated =  non_zero_original / non_zero_compressed\n",
        "print(f\"Original Non-Zero Coefficients: {non_zero_original}\")\n",
        "print(f\"Compressed Non-Zero Coefficients: {non_zero_compressed}\")\n",
        "print(f\"Compression Ratio Achieved: {compression_ratio_calculated}\")"
      ],
      "metadata": {
        "id": "uQ1gpNO1Tl6p"
      },
      "execution_count": null,
      "outputs": []
    },
    {
      "cell_type": "markdown",
      "source": [
        "## **Filtering in the Spatial Domain**"
      ],
      "metadata": {
        "id": "I97isAF1Vwhq"
      }
    },
    {
      "cell_type": "markdown",
      "source": [
        "Apply spatial filters such as Sobel or Gaussian filters to enhance edges and fine details in the image.\n",
        "\n",
        "This process includes:\n",
        "- Applying a Gaussian filter to blur the image and reduce noise.\n",
        "- Using a Sobel filter to highlight edges and fine details in the image."
      ],
      "metadata": {
        "id": "dsxYOTEFuhUQ"
      }
    },
    {
      "cell_type": "code",
      "source": [
        "# Step 1: Apply Gaussian Filter\n",
        "gaussian_blurred = cv2.GaussianBlur(original_image, (5,5), sigmaX=1)\n",
        "\n",
        "# Step 2: Apply Sobel Filter\n",
        "sobel_x = cv2.Sobel(gaussian_blurred, cv2.CV_64F, 1, 0, ksize=3)  # Sobel in the X direction\n",
        "sobel_y = cv2.Sobel(gaussian_blurred, cv2.CV_64F, 0, 1, ksize=3)  # Sobel in the Y direction\n",
        "sobel_combined = cv2.magnitude(sobel_x, sobel_y)  # Combine gradients"
      ],
      "metadata": {
        "id": "bsO1wDc3u3ak"
      },
      "execution_count": null,
      "outputs": []
    },
    {
      "cell_type": "code",
      "source": [
        "filtering_result_images = [original_image, gaussian_blurred, sobel_x, sobel_y, sobel_combined]\n",
        "filtering_result_titles = [\"Original Image\", \"Gaussian Blurred\", \"Sobel X\", \"Sobel Y\", \"Sobel Combined\"]\n",
        "\n",
        "display_images(filtering_result_images, 5, filtering_result_titles, \"grey\")"
      ],
      "metadata": {
        "id": "CTsaURtCXpJu"
      },
      "execution_count": null,
      "outputs": []
    },
    {
      "cell_type": "markdown",
      "source": [
        "## **Frequency Domain Filtering**"
      ],
      "metadata": {
        "id": "3Fvw4ueuabUJ"
      }
    },
    {
      "cell_type": "markdown",
      "source": [
        "Use frequency domain filtering to improve image quality and assist with noise reduction and feature enhancement\n",
        "\n",
        "This process includes:\n",
        "- Applying a low-pass filter to the frequency domain representation to attenuate high-frequency components (typically associated with\n",
        "noise).\n",
        "- Applying a high-pass filter to highlight fine details and edges, enhancing the clarity of structural information within the image.\n",
        "- Applying a band-pass filter to retain mid-frequency components that are important for certain features while removing both high and low-frequency noise.\n"
      ],
      "metadata": {
        "id": "WXR7Cq9mu35v"
      }
    },
    {
      "cell_type": "code",
      "source": [
        "# Step 1: Apply 2D Fourier Transform\n",
        "f_transform = np.fft.fft2(original_image)\n",
        "f_transform_shifted = np.fft.fftshift(f_transform)  # Shift zero-frequency component to the center\n",
        "\n",
        "# Get the magnitude spectrum for visualization\n",
        "magnitude_spectrum = 20 * np.log(np.abs(f_transform_shifted))\n",
        "\n",
        "# Step 2: Create filters\n",
        "rows, cols = image.shape\n",
        "crow, ccol = rows // 2, cols // 2 # Center coordinates\n",
        "\n",
        "# 1. Low-pass filter\n",
        "low_pass = np.zeros((rows, cols), np.uint8)\n",
        "cv2.circle(low_pass, (ccol, crow), 50, 1, -1) # Circle of radius 50\n",
        "low_pass_filtered = f_transform_shifted * low_pass\n",
        "\n",
        "# 2. High-pass filter\n",
        "high_pass = np.ones((rows, cols), np.uint8)\n",
        "cv2.circle(high_pass, (ccol, crow), 50, 0, -1) # Circle of radius 50\n",
        "high_pass_filtered = f_transform_shifted * high_pass\n",
        "\n",
        "# 3. Band-pass filter\n",
        "band_pass = np.zeros((rows, cols), np.uint8)\n",
        "cv2.circle(band_pass, (ccol, crow), 80, 1, -1) # Outer circle\n",
        "cv2.circle(band_pass, (ccol, crow), 30, 0, -1) # Inner circle\n",
        "band_pass_filtered = f_transform_shifted * band_pass\n",
        "\n",
        "# Step 3: Reconstruct Images using Inverse Fourier Transform\n",
        "low_pass_image = np.abs(np.fft.ifft2(np.fft.ifftshift(low_pass_filtered)))\n",
        "high_pass_image = np.abs(np.fft.ifft2(np.fft.ifftshift(high_pass_filtered)))\n",
        "band_pass_image = np.abs(np.fft.ifft2(np.fft.ifftshift(band_pass_filtered)))"
      ],
      "metadata": {
        "id": "tOiybi_cvQSw"
      },
      "execution_count": null,
      "outputs": []
    },
    {
      "cell_type": "code",
      "source": [
        "frequency_filtering_result_images = [original_image, magnitude_spectrum, low_pass_image, high_pass_image, band_pass_image]\n",
        "frequency_filtering_result_titles = [\"Original Image\", \"Magnitude Spectrum\", \"Low-pass Filtered\", \"High-pass Filtered\", \"Band-pass Filtered\"]\n",
        "\n",
        "display_images(frequency_filtering_result_images, 5, frequency_filtering_result_titles, \"grey\")"
      ],
      "metadata": {
        "id": "Kx7Fytv5-2NJ"
      },
      "execution_count": null,
      "outputs": []
    }
  ]
}
